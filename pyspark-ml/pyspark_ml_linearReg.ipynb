{
  "nbformat": 4,
  "nbformat_minor": 0,
  "metadata": {
    "colab": {
      "provenance": []
    },
    "kernelspec": {
      "name": "python3",
      "display_name": "Python 3"
    },
    "language_info": {
      "name": "python"
    }
  },
  "cells": [
    {
      "cell_type": "code",
      "execution_count": null,
      "metadata": {
        "id": "WOI6C_QxjjeI"
      },
      "outputs": [],
      "source": [
        "#pip install pyspark"
      ]
    },
    {
      "cell_type": "code",
      "source": [
        "from pyspark.sql import SparkSession\n",
        "from pyspark.ml.stat import Correlation\n",
        "import pyspark.sql.functions as F"
      ],
      "metadata": {
        "id": "Rowke7-8j-N5"
      },
      "execution_count": 4,
      "outputs": []
    },
    {
      "cell_type": "code",
      "source": [
        "spark = SparkSession.builder.getOrCreate()"
      ],
      "metadata": {
        "id": "2OyVET9VkOvH"
      },
      "execution_count": 5,
      "outputs": []
    },
    {
      "cell_type": "code",
      "source": [
        "df = spark.read.csv('insurance.csv', inferSchema=True, header=True)"
      ],
      "metadata": {
        "id": "Arx_DQe-kYpn"
      },
      "execution_count": 6,
      "outputs": []
    },
    {
      "cell_type": "code",
      "source": [
        "df.show(10)"
      ],
      "metadata": {
        "colab": {
          "base_uri": "https://localhost:8080/"
        },
        "id": "ETiObdP_k-6P",
        "outputId": "94910a2c-b14c-4f03-b04c-a22cea01181f"
      },
      "execution_count": 6,
      "outputs": [
        {
          "output_type": "stream",
          "name": "stdout",
          "text": [
            "+---+------+----+--------+------+---------+--------+\n",
            "|age|   sex| bmi|children|smoker|   region|expenses|\n",
            "+---+------+----+--------+------+---------+--------+\n",
            "| 19|female|27.9|       0|   yes|southwest|16884.92|\n",
            "| 18|  male|33.8|       1|    no|southeast| 1725.55|\n",
            "| 28|  male|33.0|       3|    no|southeast| 4449.46|\n",
            "| 33|  male|22.7|       0|    no|northwest|21984.47|\n",
            "| 32|  male|28.9|       0|    no|northwest| 3866.86|\n",
            "| 31|female|25.7|       0|    no|southeast| 3756.62|\n",
            "| 46|female|33.4|       1|    no|southeast| 8240.59|\n",
            "| 37|female|27.7|       3|    no|northwest| 7281.51|\n",
            "| 37|  male|29.8|       2|    no|northeast| 6406.41|\n",
            "| 60|female|25.8|       0|    no|northwest|28923.14|\n",
            "+---+------+----+--------+------+---------+--------+\n",
            "only showing top 10 rows\n",
            "\n"
          ]
        }
      ]
    },
    {
      "cell_type": "code",
      "source": [
        "df.describe().show()"
      ],
      "metadata": {
        "colab": {
          "base_uri": "https://localhost:8080/"
        },
        "id": "TqRseTnClB43",
        "outputId": "e3d17656-94f5-4558-c7a4-fe777aa66903"
      },
      "execution_count": 8,
      "outputs": [
        {
          "output_type": "stream",
          "name": "stdout",
          "text": [
            "+-------+------------------+------+------------------+-----------------+------+---------+------------------+\n",
            "|summary|               age|   sex|               bmi|         children|smoker|   region|          expenses|\n",
            "+-------+------------------+------+------------------+-----------------+------+---------+------------------+\n",
            "|  count|              1338|  1338|              1338|             1338|  1338|     1338|              1338|\n",
            "|   mean| 39.20702541106129|  NULL|30.665470852017993|  1.0949177877429|  NULL|     NULL|13270.422414050803|\n",
            "| stddev|14.049960379216147|  NULL|  6.09838219000336|1.205492739781914|  NULL|     NULL|12110.011239706473|\n",
            "|    min|                18|female|              16.0|                0|    no|northeast|           1121.87|\n",
            "|    max|                64|  male|              53.1|                5|   yes|southwest|          63770.43|\n",
            "+-------+------------------+------+------------------+-----------------+------+---------+------------------+\n",
            "\n"
          ]
        }
      ]
    },
    {
      "cell_type": "code",
      "source": [
        "from pyspark.sql.functions import col,isnan, when, count\n",
        "df.select([count(when(isnan(c) | col(c).isNull(), c)).alias(c) for c in df.columns]\n",
        "   ).show()"
      ],
      "metadata": {
        "colab": {
          "base_uri": "https://localhost:8080/"
        },
        "id": "lri2SQN7m_IR",
        "outputId": "3d28590c-1d07-4f23-85fd-99735f358ec8"
      },
      "execution_count": 9,
      "outputs": [
        {
          "output_type": "stream",
          "name": "stdout",
          "text": [
            "+---+---+---+--------+------+------+--------+\n",
            "|age|sex|bmi|children|smoker|region|expenses|\n",
            "+---+---+---+--------+------+------+--------+\n",
            "|  0|  0|  0|       0|     0|     0|       0|\n",
            "+---+---+---+--------+------+------+--------+\n",
            "\n"
          ]
        }
      ]
    },
    {
      "cell_type": "code",
      "source": [
        "df.printSchema()"
      ],
      "metadata": {
        "colab": {
          "base_uri": "https://localhost:8080/"
        },
        "id": "IhsDyWZuk0yA",
        "outputId": "5349b16c-0bd0-47f7-da73-4177db15b6eb"
      },
      "execution_count": 5,
      "outputs": [
        {
          "output_type": "stream",
          "name": "stdout",
          "text": [
            "root\n",
            " |-- age: integer (nullable = true)\n",
            " |-- sex: string (nullable = true)\n",
            " |-- bmi: double (nullable = true)\n",
            " |-- children: integer (nullable = true)\n",
            " |-- smoker: string (nullable = true)\n",
            " |-- region: string (nullable = true)\n",
            " |-- expenses: double (nullable = true)\n",
            "\n"
          ]
        }
      ]
    },
    {
      "cell_type": "code",
      "source": [
        "#StringIndexerForCategoricalValues\n",
        "\n",
        "from pyspark.ml.feature import StringIndexer\n",
        "\n",
        "indexer = StringIndexer(inputCol='sex', outputCol='sex_cat')\n",
        "indexed = indexer.fit(df).transform(df)\n",
        "\n",
        "indexer = StringIndexer(inputCol='smoker',outputCol='smoker_cat')\n",
        "indexed = indexer.fit(indexed).transform(indexed)\n",
        "\n",
        "indexer = StringIndexer(inputCol='region', outputCol='region_cat')\n",
        "indexed = indexer.fit(indexed).transform(indexed)\n",
        "\n",
        "indexed.show()"
      ],
      "metadata": {
        "colab": {
          "base_uri": "https://localhost:8080/"
        },
        "id": "qXKvOp6-lkp4",
        "outputId": "80279a90-ef64-4f12-a1cd-ce2e14df1b46"
      },
      "execution_count": 7,
      "outputs": [
        {
          "output_type": "stream",
          "name": "stdout",
          "text": [
            "+---+------+----+--------+------+---------+--------+-------+----------+----------+\n",
            "|age|   sex| bmi|children|smoker|   region|expenses|sex_cat|smoker_cat|region_cat|\n",
            "+---+------+----+--------+------+---------+--------+-------+----------+----------+\n",
            "| 19|female|27.9|       0|   yes|southwest|16884.92|    1.0|       1.0|       2.0|\n",
            "| 18|  male|33.8|       1|    no|southeast| 1725.55|    0.0|       0.0|       0.0|\n",
            "| 28|  male|33.0|       3|    no|southeast| 4449.46|    0.0|       0.0|       0.0|\n",
            "| 33|  male|22.7|       0|    no|northwest|21984.47|    0.0|       0.0|       1.0|\n",
            "| 32|  male|28.9|       0|    no|northwest| 3866.86|    0.0|       0.0|       1.0|\n",
            "| 31|female|25.7|       0|    no|southeast| 3756.62|    1.0|       0.0|       0.0|\n",
            "| 46|female|33.4|       1|    no|southeast| 8240.59|    1.0|       0.0|       0.0|\n",
            "| 37|female|27.7|       3|    no|northwest| 7281.51|    1.0|       0.0|       1.0|\n",
            "| 37|  male|29.8|       2|    no|northeast| 6406.41|    0.0|       0.0|       3.0|\n",
            "| 60|female|25.8|       0|    no|northwest|28923.14|    1.0|       0.0|       1.0|\n",
            "| 25|  male|26.2|       0|    no|northeast| 2721.32|    0.0|       0.0|       3.0|\n",
            "| 62|female|26.3|       0|   yes|southeast|27808.73|    1.0|       1.0|       0.0|\n",
            "| 23|  male|34.4|       0|    no|southwest| 1826.84|    0.0|       0.0|       2.0|\n",
            "| 56|female|39.8|       0|    no|southeast|11090.72|    1.0|       0.0|       0.0|\n",
            "| 27|  male|42.1|       0|   yes|southeast|39611.76|    0.0|       1.0|       0.0|\n",
            "| 19|  male|24.6|       1|    no|southwest| 1837.24|    0.0|       0.0|       2.0|\n",
            "| 52|female|30.8|       1|    no|northeast|10797.34|    1.0|       0.0|       3.0|\n",
            "| 23|  male|23.8|       0|    no|northeast| 2395.17|    0.0|       0.0|       3.0|\n",
            "| 56|  male|40.3|       0|    no|southwest|10602.39|    0.0|       0.0|       2.0|\n",
            "| 30|  male|35.3|       0|   yes|southwest|36837.47|    0.0|       1.0|       2.0|\n",
            "+---+------+----+--------+------+---------+--------+-------+----------+----------+\n",
            "only showing top 20 rows\n",
            "\n"
          ]
        }
      ]
    },
    {
      "cell_type": "code",
      "source": [
        "_df = indexed.select('age','bmi','children','expenses','sex_cat','smoker_cat','region_cat')"
      ],
      "metadata": {
        "id": "TBu75flcqdBV"
      },
      "execution_count": 29,
      "outputs": []
    },
    {
      "cell_type": "code",
      "source": [
        "_df.printSchema()"
      ],
      "metadata": {
        "colab": {
          "base_uri": "https://localhost:8080/"
        },
        "id": "ojka4H1Pw1vt",
        "outputId": "f32d4d28-129e-43b2-d924-7c7eb7eca89f"
      },
      "execution_count": 30,
      "outputs": [
        {
          "output_type": "stream",
          "name": "stdout",
          "text": [
            "root\n",
            " |-- age: integer (nullable = true)\n",
            " |-- bmi: double (nullable = true)\n",
            " |-- children: integer (nullable = true)\n",
            " |-- expenses: double (nullable = true)\n",
            " |-- sex_cat: double (nullable = false)\n",
            " |-- smoker_cat: double (nullable = false)\n",
            " |-- region_cat: double (nullable = false)\n",
            "\n"
          ]
        }
      ]
    },
    {
      "cell_type": "code",
      "source": [
        "#creating vector space\n",
        "from pyspark.ml.linalg import Vector\n",
        "from pyspark.ml.feature import VectorAssembler\n",
        "\n",
        "assembler = VectorAssembler(\n",
        "    inputCols=['age','bmi','children',\n",
        "    'sex_cat',\n",
        "    'smoker_cat','region_cat'], outputCol='feature_vectors'\n",
        ")\n",
        "\n",
        "v_df = assembler.transform(_df)"
      ],
      "metadata": {
        "id": "ayJ2g3WIyU0x"
      },
      "execution_count": 31,
      "outputs": []
    },
    {
      "cell_type": "code",
      "source": [
        "from pyspark.ml.feature import MinMaxScaler\n",
        "\n",
        "mmscaler = MinMaxScaler(inputCol='feature_vectors', outputCol='feature_vectors_scaled')\n",
        "s_v_df = mmscaler.fit(v_df).transform(v_df)\n"
      ],
      "metadata": {
        "id": "7S5RCI0QxG2J"
      },
      "execution_count": 32,
      "outputs": []
    },
    {
      "cell_type": "code",
      "source": [
        "final_data = s_v_df.select('feature_vectors_scaled', 'expenses')"
      ],
      "metadata": {
        "id": "98hqrKGv2zRu"
      },
      "execution_count": 33,
      "outputs": []
    },
    {
      "cell_type": "code",
      "source": [
        "final_data.show()"
      ],
      "metadata": {
        "colab": {
          "base_uri": "https://localhost:8080/"
        },
        "id": "PrOVMGsY88UL",
        "outputId": "2b3f6a83-f3b0-42e8-e8c0-629d6200651d"
      },
      "execution_count": 34,
      "outputs": [
        {
          "output_type": "stream",
          "name": "stdout",
          "text": [
            "+----------------------+--------+\n",
            "|feature_vectors_scaled|expenses|\n",
            "+----------------------+--------+\n",
            "|  [0.02173913043478...|16884.92|\n",
            "|  (6,[1,2],[0.47978...| 1725.55|\n",
            "|  [0.21739130434782...| 4449.46|\n",
            "|  [0.32608695652173...|21984.47|\n",
            "|  [0.30434782608695...| 3866.86|\n",
            "|  [0.28260869565217...| 3756.62|\n",
            "|  [0.60869565217391...| 8240.59|\n",
            "|  [0.41304347826086...| 7281.51|\n",
            "|  [0.41304347826086...| 6406.41|\n",
            "|  [0.91304347826086...|28923.14|\n",
            "|  [0.15217391304347...| 2721.32|\n",
            "|  [0.95652173913043...|27808.73|\n",
            "|  [0.10869565217391...| 1826.84|\n",
            "|  [0.82608695652173...|11090.72|\n",
            "|  [0.19565217391304...|39611.76|\n",
            "|  [0.02173913043478...| 1837.24|\n",
            "|  [0.73913043478260...|10797.34|\n",
            "|  [0.10869565217391...| 2395.17|\n",
            "|  [0.82608695652173...|10602.39|\n",
            "|  [0.26086956521739...|36837.47|\n",
            "+----------------------+--------+\n",
            "only showing top 20 rows\n",
            "\n"
          ]
        }
      ]
    },
    {
      "cell_type": "code",
      "source": [
        "#splitting data\n",
        "train_data, test_data = final_data.randomSplit([.7,.3])"
      ],
      "metadata": {
        "id": "ncwfl3nB-Vtc"
      },
      "execution_count": 35,
      "outputs": []
    },
    {
      "cell_type": "code",
      "source": [
        "train_data.describe().show()"
      ],
      "metadata": {
        "colab": {
          "base_uri": "https://localhost:8080/"
        },
        "id": "bI1q0R5A_sa7",
        "outputId": "5e3cc585-dfbf-4186-e93d-20b3c5770efe"
      },
      "execution_count": 36,
      "outputs": [
        {
          "output_type": "stream",
          "name": "stdout",
          "text": [
            "+-------+------------------+\n",
            "|summary|          expenses|\n",
            "+-------+------------------+\n",
            "|  count|               950|\n",
            "|   mean|12920.168389473683|\n",
            "| stddev|11792.784136214848|\n",
            "|    min|           1121.87|\n",
            "|    max|          63770.43|\n",
            "+-------+------------------+\n",
            "\n"
          ]
        }
      ]
    },
    {
      "cell_type": "code",
      "source": [
        "test_data.describe().show()"
      ],
      "metadata": {
        "colab": {
          "base_uri": "https://localhost:8080/"
        },
        "id": "J720m0GM_yHV",
        "outputId": "5eee0b21-3999-4093-adcc-d1757379f002"
      },
      "execution_count": 38,
      "outputs": [
        {
          "output_type": "stream",
          "name": "stdout",
          "text": [
            "+-------+------------------+\n",
            "|summary|          expenses|\n",
            "+-------+------------------+\n",
            "|  count|               388|\n",
            "|   mean|14128.003144329909|\n",
            "| stddev|12829.142081085165|\n",
            "|    min|           1131.51|\n",
            "|    max|          62592.87|\n",
            "+-------+------------------+\n",
            "\n"
          ]
        }
      ]
    },
    {
      "cell_type": "code",
      "source": [
        "from pyspark.ml.regression import LinearRegression\n",
        "lr = LinearRegression(featuresCol='feature_vectors_scaled', labelCol='expenses')\n",
        "model = lr.fit(train_data)"
      ],
      "metadata": {
        "id": "gg-10gLyKayB"
      },
      "execution_count": 40,
      "outputs": []
    },
    {
      "cell_type": "code",
      "source": [
        "model_eval = model.evaluate(train_data)\n",
        "print(f'r2 error: {model_eval.r2}')\n",
        "print(f'MeanSquaredError: {model_eval.meanSquaredError}')\n",
        "print(f'MeanAbsoluteError: {model_eval.meanAbsoluteError}')"
      ],
      "metadata": {
        "colab": {
          "base_uri": "https://localhost:8080/"
        },
        "id": "ot_Y4G-rLf9j",
        "outputId": "00c86928-0b8c-40ef-81ef-40ffc5f57e4c"
      },
      "execution_count": 44,
      "outputs": [
        {
          "output_type": "stream",
          "name": "stdout",
          "text": [
            "r2 error: 0.7501585432839012\n",
            "MeanSquaredError: 34708816.749139614\n",
            "MeanAbsoluteError: 4068.546699043424\n"
          ]
        }
      ]
    },
    {
      "cell_type": "code",
      "source": [
        "#making prediction\n",
        "\n",
        "pred = model.transform(test_data.select('feature_vectors_scaled'))\n",
        "pred.show()"
      ],
      "metadata": {
        "colab": {
          "base_uri": "https://localhost:8080/"
        },
        "id": "mKeE5nD1MEkx",
        "outputId": "0cf940de-e41e-41d8-9f8d-f29c30d8e798"
      },
      "execution_count": 48,
      "outputs": [
        {
          "output_type": "stream",
          "name": "stdout",
          "text": [
            "+----------------------+-------------------+\n",
            "|feature_vectors_scaled|         prediction|\n",
            "+----------------------+-------------------+\n",
            "|  (6,[0,1],[0.10869...| 1533.7386151176393|\n",
            "|  (6,[0,1],[0.10869...|  3562.466245358181|\n",
            "|  (6,[0,1],[0.34782...| 6922.8405470956695|\n",
            "|  (6,[0,1],[0.47826...| 10959.859081941087|\n",
            "|  (6,[0,1],[0.5,0.6...| 10751.363009310824|\n",
            "|  (6,[0,1],[0.69565...|  8076.710435543839|\n",
            "|  (6,[0,1],[0.73913...| 11517.626570740738|\n",
            "|  (6,[0,1],[0.76086...| 10244.879937984291|\n",
            "|  (6,[0,1],[0.82608...| 12645.854250452348|\n",
            "|  (6,[0,1],[0.86956...|   18048.9823558819|\n",
            "|  (6,[0,1],[0.91304...| 10780.877229809064|\n",
            "|  (6,[0,1],[0.97826...| 16806.955012706934|\n",
            "|  (6,[1],[0.3800539...| 1445.4527581348725|\n",
            "|  (6,[1],[0.4770889...| 2642.7346382768314|\n",
            "|  (6,[1],[0.6765498...|  5103.814058568634|\n",
            "|  (6,[1,2],[0.15633...| -292.3399604158353|\n",
            "|  (6,[1,2],[0.47978...|  3187.296054169064|\n",
            "|  (6,[1,3],[0.12938...|-1403.2504995979077|\n",
            "|  (6,[1,3],[0.28840...|  558.9614706347456|\n",
            "|  (6,[1,3],[0.60107...|  4416.869751092165|\n",
            "+----------------------+-------------------+\n",
            "only showing top 20 rows\n",
            "\n"
          ]
        }
      ]
    },
    {
      "cell_type": "code",
      "source": [
        "pred = pred.toPandas()\n",
        "actual = test_data.toPandas()"
      ],
      "metadata": {
        "id": "1x_M_bvXNSKA"
      },
      "execution_count": 51,
      "outputs": []
    },
    {
      "cell_type": "code",
      "source": [
        "pred['actual'] =  actual['expenses']"
      ],
      "metadata": {
        "id": "VRL9Fyz2Oqee"
      },
      "execution_count": 55,
      "outputs": []
    },
    {
      "cell_type": "code",
      "source": [
        "import seaborn as sns\n",
        "import matplotlib.pyplot as plt\n",
        "\n",
        "\n",
        "plt.figure(figsize = (8,4))\n",
        "sns.set_style('darkgrid')\n",
        "sns.set_context('talk')\n",
        "\n",
        "sns.lineplot(x = 'expenses', y = 'expenses', data = actual, color = 'red', label = 'actual_price')\n",
        "sns.scatterplot(x = 'actual', y = 'prediction', data = pred, marker = '.',label = 'predicted_price')\n",
        "plt.legend()\n",
        "plt.xlabel('')\n",
        "plt.ylabel('')\n",
        "\n",
        "plt.show()"
      ],
      "metadata": {
        "colab": {
          "base_uri": "https://localhost:8080/",
          "height": 385
        },
        "id": "ttaiIjgEOEXy",
        "outputId": "93f9c65b-38bb-4583-bf94-3c4e40e424c7"
      },
      "execution_count": 60,
      "outputs": [
        {
          "output_type": "display_data",
          "data": {
            "text/plain": [
              "<Figure size 800x400 with 1 Axes>"
            ],
            "image/png": "[encoded data removed]"
          },
          "metadata": {}
        }
      ]
    },
    {
      "cell_type": "markdown",
      "source": [
        "Ref:\n",
        "https://www.projectpro.io/hadoop-tutorial/pyspark-machine-learning-tutorial\n",
        "\n",
        "https://www.analyticsvidhya.com/blog/2022/09/machine-learning-pipeline-in-pyspark/\n"
      ],
      "metadata": {
        "id": "9ZVGcx_8Qhp6"
      }
    }
  ]
}